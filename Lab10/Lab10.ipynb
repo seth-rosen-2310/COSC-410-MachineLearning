{
 "cells": [
  {
   "cell_type": "markdown",
   "id": "together-pressure",
   "metadata": {},
   "source": [
    "# Lab 10: Unsupervised Learning\n",
    "COSC 410: Applied Machine Learning\\\n",
    "Colgate University\\\n",
    "*Prof. Apthorpe*\n",
    "\n",
    "This lab is due to Gradescope by the beginning of lab next week (2:45p on 4/14). You may work with a partner on this lab – if you do, submit only one solution as a “group” on Gradescope.\n",
    "\n",
    "\n",
    "## Introduction\n",
    "\n",
    "Cancer is the second leading cause of death in the United States (after heart disease), and the development of general therapeutics still poses a significant challenge for medical researchers. It has been said that cancer is a \"disease of multicellularity,\" involving a human's own cells \"going rogue\" by expressing genes they shouldn't and replicating out of control. The advent of fast inexpensive DNA and RNA sequencing techniques now makes it possible for scientists to collect large-scale data about the underlying genetic causes of cancer in an effort to find effective treatments. In this lab, you will experiment with unsupervised dimensionality reduction and clustering algorithms to try to answer the following cancer research questions:\n",
    "\n",
    "**1. Are different cancer types (e.g. lung vs. kidney) the result of the same changes in gene expression occurring in different parts of the body, or do they represent \"different diseases\" with mostly unique changes in gene expression?**\n",
    "\n",
    "**2. Might it be possible to make high-confidence diagnoses of patients' cancer types from gene expression data alone?**\n",
    "\n",
    "You will work with a RNA-Sequencing dataset from \"The Cancer Genome Atlas Pan-Cancer Analysis Project\" (Nature Genetics, 2013) to answer these questions. In human cells, genes encoded in DNA are translated into messenger RNA that is then transcribed into proteins. RNA-sequencing is a method for measuring which genes are currently being expressed (and to what extent). The process involves extracting messenger RNA from cell samples, sequencing the RNA, and mapping the sequences of A, U, C, and G nucleotides back to the known DNA genome. Comparing gene expression between samples from individuals with different cancer types allows researchers to test whether over- or under-expression of particular genes may be correlated with the disease. The dataset we are working with contains a random sample of gene expressions from five different types of tumor: BRCA (breast invasive carcinoma), KIRC (kidney renal clear cell carcinoma), COAD (colon adenocarcinoma), LUAD (lung adenocarcinoma), and PRAD (prostate adenocarcinoma).\n",
    "\n",
    "You will note that the gene expression dataset *does* have ground-truth labels, even though unsupervised learning is primarily intended for data without existing labels.  However, it is common practice to use unsupervised ML with labeled data, because 1) good 2D visualizations are useful for interpreting data even if it has already been labeled, and 2) we can test whether identified clusters align with existing labels to know whether clustering future unlabeled data is likely to be effective.\n",
    "\n",
    "## Provided Files\n",
    " * `Lab10.ipynb`: This file\n",
    " * `TCGA-PANCAN-HiSeq-801x20531.csv`: CSV file with gene expression levels of patients with one of five different cancer types\n",
    " * `TCGA-PANCAN-HiSeq-801x20531_labels.csv`: CSV file with the each patient's cancer type\n",
    " \n",
    "## Part 1: Data Import and Preprocessing\n",
    "\n",
    "The following cells import libraries and implement functions to load the dataset and create scatterplots. You do not need to modify these cells. Look up the [Matplotlib scatter() documentation](https://matplotlib.org/stable/api/_as_gen/matplotlib.pyplot.scatter.html) to understand the `plot_scatter` function"
   ]
  },
  {
   "cell_type": "code",
   "execution_count": 1,
   "id": "emerging-buyer",
   "metadata": {},
   "outputs": [],
   "source": [
    "import numpy as np\n",
    "import pandas as pd\n",
    "import matplotlib.pyplot as plt\n",
    "import keras as ks\n",
    "from sklearn.datasets import load_digits\n",
    "from sklearn.preprocessing import StandardScaler, LabelEncoder\n",
    "from sklearn.decomposition import PCA\n",
    "from sklearn.manifold import TSNE\n",
    "from sklearn.cluster import KMeans\n",
    "from sklearn.metrics import completeness_score"
   ]
  },
  {
   "cell_type": "code",
   "execution_count": 2,
   "id": "willing-aging",
   "metadata": {},
   "outputs": [],
   "source": [
    "def load_cancer_gene_expression():\n",
    "    X = pd.read_csv(\"TCGA-PANCAN-HiSeq-801x20531.csv\")\n",
    "    y = pd.read_csv(\"TCGA-PANCAN-HiSeq-801x20531_labels.csv\")[\"Class\"]\n",
    "    X = X.drop(\"Unnamed: 0\", axis=1)\n",
    "    y = LabelEncoder().fit_transform(y)\n",
    "    return X, y\n",
    "\n",
    "\n",
    "def plot_scatter(X, labels_for_coloring=None, cmap=\"tab10\"):\n",
    "    plt.scatter(x=X[:,0], y=X[:,1], c=labels_for_coloring, cmap=cmap)"
   ]
  },
  {
   "cell_type": "markdown",
   "id": "divine-southwest",
   "metadata": {},
   "source": [
    "## Part 2. Data Exploration\n",
    "\n",
    "In the following cells, familiarize yourself with the cancer dataset as we have done with other datasets throughout the semester. Check the size of the examples and labels, the counts of examples from different cancer types, etc. "
   ]
  },
  {
   "cell_type": "code",
   "execution_count": 3,
   "id": "warming-highway",
   "metadata": {},
   "outputs": [],
   "source": [
    "X_cancer, y_cancer = load_cancer_gene_expression()"
   ]
  },
  {
   "cell_type": "code",
   "execution_count": 4,
   "id": "formed-filing",
   "metadata": {},
   "outputs": [
    {
     "data": {
      "text/plain": [
       "((801, 20531), (801,))"
      ]
     },
     "execution_count": 4,
     "metadata": {},
     "output_type": "execute_result"
    }
   ],
   "source": [
    "X_cancer.shape, y_cancer.shape"
   ]
  },
  {
   "cell_type": "code",
   "execution_count": 5,
   "id": "dependent-december",
   "metadata": {},
   "outputs": [
    {
     "name": "stdout",
     "output_type": "stream",
     "text": [
      "[0 1 2 3 4]\n"
     ]
    }
   ],
   "source": [
    "print(np.unique(y_cancer))"
   ]
  },
  {
   "cell_type": "markdown",
   "id": "closed-imaging",
   "metadata": {},
   "source": [
    "**Question 1:** Describe the facets of the cancer dataset you think are most important to know before beginning a ML pipeline"
   ]
  },
  {
   "cell_type": "markdown",
   "id": "eed949a5-4e8f-4c57-938a-ca1c184564a5",
   "metadata": {},
   "source": [
    "It is important to know that the dataset includes 801 total observation, each with 20501 features. In all, there are 5 total unique labels."
   ]
  },
  {
   "cell_type": "markdown",
   "id": "early-strand",
   "metadata": {},
   "source": [
    "## Part 2. Dimensionality Reduction\n",
    "\n",
    "Complete the `pca()`, `tsne()`, and `autoencode()` functions in the following cells.\n",
    "\n",
    "  * `pca(X, n_components)`: Performs PCA on example matrix `X`, producing a new matrix with the same number of examples (rows) and `n_components` features (columns). Returns the new matrix. [Scikit-Learn PCA Documentation](https://scikit-learn.org/stable/modules/generated/sklearn.decomposition.PCA.html#sklearn.decomposition.PCA)\n",
    "  \n",
    "  * `tsne(X, n_components)`: Performs t-SNE on example matrix `X`, producing a new matrix with the same number of examples (rows) and `n_components` features (columns). Returns the new matrix. [Scikit-Learn t-SNE Documentation](https://scikit-learn.org/stable/modules/generated/sklearn.manifold.TSNE.html)\n",
    " \n",
    "  * `autoencode(X, n_components, hidden_layer_nodes, epochs=25)`: Creates and trains a stacked autoencoder to reduce matrix `X` to `n_components` dimensions. Returns the new matrix. `hidden_layer_nodes` should be a list with the numbers of nodes in each layer **between** the input layer and the middle encoding layer. Refer to the course textbook and/or the Keras documentation for examples. Note that you will want to be careful about your choice of activation and loss functions. "
   ]
  },
  {
   "cell_type": "code",
   "execution_count": 6,
   "id": "superior-italian",
   "metadata": {},
   "outputs": [],
   "source": [
    "def pca(X, n_components):\n",
    "    pca = PCA(n_components = n_components)\n",
    "    #new = pca.fit(X)\n",
    "    return pca.fit_transform(X)"
   ]
  },
  {
   "cell_type": "code",
   "execution_count": 7,
   "id": "incomplete-signal",
   "metadata": {},
   "outputs": [],
   "source": [
    "def tsne(X, n_components):\n",
    "    tsne = TSNE(n_components = n_components)\n",
    "    #new = TSNE.fit(X)\n",
    "    return tsne.fit_transform(X)"
   ]
  },
  {
   "cell_type": "code",
   "execution_count": 8,
   "id": "polar-upper",
   "metadata": {},
   "outputs": [],
   "source": [
    "def autoencode(X, n_components, hidden_layer_nodes, epochs=25):\n",
    "    encoder = ks.models.Sequential()\n",
    "    encoder.add(ks.Input(shape=20531))\n",
    "    for i in hidden_layer_nodes:\n",
    "        encoder.add(ks.layers.Dense(i, activation = 'relu'))\n",
    "    encoder.add(ks.layers.Dense(n_components, activation = 'relu'))\n",
    "    \n",
    "    decoder = ks.models.Sequential()\n",
    "    for i in reversed(hidden_layer_nodes):\n",
    "        decoder.add(ks.layers.Dense(i, activation = 'relu', input_shape=[n_components]))\n",
    "    decoder.add(ks.layers.Dense(20531, activation = 'relu'))\n",
    "    \n",
    "    autoencoder = ks.models.Sequential([encoder, decoder])\n",
    "    autoencoder.compile(optimizer = 'adam', loss = 'mean_squared_error', metrics = ['accuracy'])\n",
    "    autoencoder.fit(x=X, y=X, epochs=epochs, validation_split = 0.15)\n",
    "    return encoder.predict(X)"
   ]
  },
  {
   "cell_type": "markdown",
   "id": "chief-richardson",
   "metadata": {},
   "source": [
    "Use your dimensionality reduction functions to produce 2D visualizations of the cancer dataset. Create 3 plots, one each using PCA, t-SNE, and an autoencoder. Color the points in the plot according to their ground-truth label (use the `plot_scatter` function from Part 1).  Experiment with different autoencoder architectures find a network that results in a good 2D embedding."
   ]
  },
  {
   "cell_type": "code",
   "execution_count": 9,
   "id": "plain-conservative",
   "metadata": {},
   "outputs": [
    {
     "data": {
      "image/png": "[encoded data removed]",
      "text/plain": [
       "<Figure size 432x288 with 1 Axes>"
      ]
     },
     "metadata": {
      "needs_background": "light"
     },
     "output_type": "display_data"
    }
   ],
   "source": [
    "# Cancer Dataset: PCA\n",
    "\n",
    "plot_scatter(pca(X_cancer, 2), y_cancer, \"tab10\")"
   ]
  },
  {
   "cell_type": "code",
   "execution_count": 10,
   "id": "accompanied-insider",
   "metadata": {},
   "outputs": [
    {
     "name": "stderr",
     "output_type": "stream",
     "text": [
      "/Users/rahbha/venv-COSC410/lib/python3.10/site-packages/sklearn/manifold/_t_sne.py:780: FutureWarning: The default initialization in TSNE will change from 'random' to 'pca' in 1.2.\n",
      "  warnings.warn(\n",
      "/Users/rahbha/venv-COSC410/lib/python3.10/site-packages/sklearn/manifold/_t_sne.py:790: FutureWarning: The default learning rate in TSNE will change from 200.0 to 'auto' in 1.2.\n",
      "  warnings.warn(\n"
     ]
    },
    {
     "data": {
      "image/png": "[encoded data removed]",
      "text/plain": [
       "<Figure size 432x288 with 1 Axes>"
      ]
     },
     "metadata": {
      "needs_background": "light"
     },
     "output_type": "display_data"
    }
   ],
   "source": [
    "# Cancer dataset: t-SNE\n",
    "plot_scatter(tsne(X_cancer, 2), y_cancer, \"tab10\")"
   ]
  },
  {
   "cell_type": "code",
   "execution_count": 11,
   "id": "working-floor",
   "metadata": {},
   "outputs": [
    {
     "name": "stderr",
     "output_type": "stream",
     "text": [
      "2022-04-17 20:36:07.740722: I tensorflow/core/platform/cpu_feature_guard.cc:151] This TensorFlow binary is optimized with oneAPI Deep Neural Network Library (oneDNN) to use the following CPU instructions in performance-critical operations:  AVX2 FMA\n",
      "To enable them in other operations, rebuild TensorFlow with the appropriate compiler flags.\n"
     ]
    },
    {
     "name": "stdout",
     "output_type": "stream",
     "text": [
      "Epoch 1/25\n",
      "22/22 [==============================] - 2s 50ms/step - loss: 31.4115 - accuracy: 0.0324 - val_loss: 27.3447 - val_accuracy: 0.0413\n",
      "Epoch 2/25\n",
      "22/22 [==============================] - 1s 43ms/step - loss: 26.1716 - accuracy: 0.0074 - val_loss: 25.5468 - val_accuracy: 0.0000e+00\n",
      "Epoch 3/25\n",
      "22/22 [==============================] - 1s 44ms/step - loss: 25.0605 - accuracy: 0.0191 - val_loss: 24.8811 - val_accuracy: 0.0000e+00\n",
      "Epoch 4/25\n",
      "22/22 [==============================] - 1s 43ms/step - loss: 24.6930 - accuracy: 0.0029 - val_loss: 24.7278 - val_accuracy: 0.0661\n",
      "Epoch 5/25\n",
      "22/22 [==============================] - 1s 43ms/step - loss: 24.6276 - accuracy: 0.0500 - val_loss: 24.7054 - val_accuracy: 0.0661\n",
      "Epoch 6/25\n",
      "22/22 [==============================] - 1s 43ms/step - loss: 24.6113 - accuracy: 0.0279 - val_loss: 24.6955 - val_accuracy: 0.0661\n",
      "Epoch 7/25\n",
      "22/22 [==============================] - 1s 42ms/step - loss: 24.6099 - accuracy: 0.0500 - val_loss: 24.6998 - val_accuracy: 0.0661\n",
      "Epoch 8/25\n",
      "22/22 [==============================] - 1s 46ms/step - loss: 24.6156 - accuracy: 0.0500 - val_loss: 24.6873 - val_accuracy: 0.0661\n",
      "Epoch 9/25\n",
      "22/22 [==============================] - 1s 44ms/step - loss: 24.6115 - accuracy: 0.0426 - val_loss: 24.6878 - val_accuracy: 0.0661\n",
      "Epoch 10/25\n",
      "22/22 [==============================] - 1s 43ms/step - loss: 24.5921 - accuracy: 0.0500 - val_loss: 24.6847 - val_accuracy: 0.0661\n",
      "Epoch 11/25\n",
      "22/22 [==============================] - 1s 42ms/step - loss: 24.5891 - accuracy: 0.0500 - val_loss: 24.6788 - val_accuracy: 0.0661\n",
      "Epoch 12/25\n",
      "22/22 [==============================] - 1s 44ms/step - loss: 24.6183 - accuracy: 0.0500 - val_loss: 24.7109 - val_accuracy: 0.0661\n",
      "Epoch 13/25\n",
      "22/22 [==============================] - 1s 44ms/step - loss: 24.5929 - accuracy: 0.0500 - val_loss: 24.6798 - val_accuracy: 0.0661\n",
      "Epoch 14/25\n",
      "22/22 [==============================] - 1s 48ms/step - loss: 24.5877 - accuracy: 0.0500 - val_loss: 24.6847 - val_accuracy: 0.0661\n",
      "Epoch 15/25\n",
      "22/22 [==============================] - 1s 47ms/step - loss: 24.5894 - accuracy: 0.0500 - val_loss: 24.6848 - val_accuracy: 0.0661\n",
      "Epoch 16/25\n",
      "22/22 [==============================] - 1s 45ms/step - loss: 24.5848 - accuracy: 0.0500 - val_loss: 24.6951 - val_accuracy: 0.0661\n",
      "Epoch 17/25\n",
      "22/22 [==============================] - 1s 47ms/step - loss: 24.5996 - accuracy: 0.0500 - val_loss: 24.6792 - val_accuracy: 0.0661\n",
      "Epoch 18/25\n",
      "22/22 [==============================] - 1s 44ms/step - loss: 24.5847 - accuracy: 0.0500 - val_loss: 24.6666 - val_accuracy: 0.0661\n",
      "Epoch 19/25\n",
      "22/22 [==============================] - 1s 42ms/step - loss: 24.5735 - accuracy: 0.0471 - val_loss: 24.6551 - val_accuracy: 0.0661\n",
      "Epoch 20/25\n",
      "22/22 [==============================] - 1s 46ms/step - loss: 24.5799 - accuracy: 0.0500 - val_loss: 24.8367 - val_accuracy: 0.0661\n",
      "Epoch 21/25\n",
      "22/22 [==============================] - 1s 45ms/step - loss: 24.6010 - accuracy: 0.0500 - val_loss: 24.6597 - val_accuracy: 0.0661\n",
      "Epoch 22/25\n",
      "22/22 [==============================] - 1s 45ms/step - loss: 24.5622 - accuracy: 0.0500 - val_loss: 24.6591 - val_accuracy: 0.0661\n",
      "Epoch 23/25\n",
      "22/22 [==============================] - 1s 48ms/step - loss: 24.5616 - accuracy: 0.0500 - val_loss: 24.6510 - val_accuracy: 0.0661\n",
      "Epoch 24/25\n",
      "22/22 [==============================] - 1s 44ms/step - loss: 24.5605 - accuracy: 0.0500 - val_loss: 24.6477 - val_accuracy: 0.0661\n",
      "Epoch 25/25\n",
      "22/22 [==============================] - 1s 44ms/step - loss: 24.5588 - accuracy: 0.0500 - val_loss: 24.6566 - val_accuracy: 0.0661\n"
     ]
    },
    {
     "data": {
      "image/png": "[encoded data removed]",
      "text/plain": [
       "<Figure size 432x288 with 1 Axes>"
      ]
     },
     "metadata": {
      "needs_background": "light"
     },
     "output_type": "display_data"
    }
   ],
   "source": [
    "# Cancer dataset: Autoencoder\n",
    "plot_scatter(autoencode(X_cancer, 2, [256,128,64,32] ), y_cancer, \"tab10\")"
   ]
  },
  {
   "cell_type": "markdown",
   "id": "eight-coordinator",
   "metadata": {},
   "source": [
    "**Question 2**: Which dimensionality reduction technique produced the best 2D visualization of the dataset? What criteria did you use to define \"best\"?"
   ]
  },
  {
   "cell_type": "markdown",
   "id": "7b81c530-b20f-49c6-8756-1628c1cb2771",
   "metadata": {},
   "source": [
    "So far, we thought that the t-sne produced the best 2D visiualization of the dataset. To choose which one was best, we saw which of the plots had the most separated clusters. Looking at the PCA plot, we see a lot of overlap between some clusters, especially the ones denoted in the blue, grey, and green. On the other hand, the t-sne plot has separation through all clusters it is also non-linear."
   ]
  },
  {
   "cell_type": "markdown",
   "id": "binary-delight",
   "metadata": {},
   "source": [
    "**Question 3:** What variations to the autoencoder did you try to improve the 2D representation? Which made a noticeable difference? Why might this be the case? "
   ]
  },
  {
   "cell_type": "markdown",
   "id": "4d6bae6e-cdc9-4317-8d69-c1bfc7ff0de9",
   "metadata": {},
   "source": [
    "We changed the number and values of hidden_layer_nodes as well as the activation function. Changing the activation function altered the plot the most (went from a dot to a line). This is because having a sigmoid activation would take out a linear relationship, which is, to some degree, what we are looking for. Sigmoid always returns a number between 0 and 1, which is not what we are looking for in this case."
   ]
  },
  {
   "cell_type": "markdown",
   "id": "verbal-console",
   "metadata": {},
   "source": [
    "## Part 3. Clustering\n",
    "\n",
    "Complete the following function to perform clustering on an unlabeled dataset:\n",
    "\n",
    "* `kmeans(X, n_clusters)`: Clusters `X` into `n_clusters` clusters using the k-means algorithm. Returns an integer array with the cluster indices assigned to each example in `X`. For example, if index 1 of the return value is 7, this means that example 1 (i.e. `X[1,:]`) has been assigned to cluster 7. Scikit-Learn [k-means documentation](https://scikit-learn.org/stable/modules/generated/sklearn.cluster.KMeans.html#). "
   ]
  },
  {
   "cell_type": "code",
   "execution_count": 12,
   "id": "stuffed-lincoln",
   "metadata": {},
   "outputs": [],
   "source": [
    "def kmeans(X, n_clusters):\n",
    "    kms = KMeans(n_clusters=n_clusters).fit_predict(X)\n",
    "    return kms"
   ]
  },
  {
   "cell_type": "markdown",
   "id": "isolated-pharmacology",
   "metadata": {},
   "source": [
    "In the following cell\n",
    "\n",
    "1. Cluster the full cancer dataset (original dimensionality) into 5 clusters using `kmeans()`\n",
    "2. Reduce the dataset to 2D using `tsne()`\n",
    "3. Plot the 2D dataset **colored by cluster labels**"
   ]
  },
  {
   "cell_type": "code",
   "execution_count": 13,
   "id": "duplicate-plant",
   "metadata": {},
   "outputs": [
    {
     "name": "stdout",
     "output_type": "stream",
     "text": [
      "(801,)\n"
     ]
    },
    {
     "name": "stderr",
     "output_type": "stream",
     "text": [
      "/Users/rahbha/venv-COSC410/lib/python3.10/site-packages/sklearn/manifold/_t_sne.py:780: FutureWarning: The default initialization in TSNE will change from 'random' to 'pca' in 1.2.\n",
      "  warnings.warn(\n",
      "/Users/rahbha/venv-COSC410/lib/python3.10/site-packages/sklearn/manifold/_t_sne.py:790: FutureWarning: The default learning rate in TSNE will change from 200.0 to 'auto' in 1.2.\n",
      "  warnings.warn(\n"
     ]
    },
    {
     "data": {
      "image/png": "[encoded data removed]",
      "text/plain": [
       "<Figure size 432x288 with 1 Axes>"
      ]
     },
     "metadata": {
      "needs_background": "light"
     },
     "output_type": "display_data"
    }
   ],
   "source": [
    "# Todo\n",
    "k = kmeans(X_cancer, 5)\n",
    "print(k.shape)\n",
    "z = tsne(X_cancer, 2)\n",
    "plot_scatter(z, k, \"tab10\")"
   ]
  },
  {
   "cell_type": "markdown",
   "id": "complicated-vocabulary",
   "metadata": {},
   "source": [
    "**Question 4:** Why did we choose to find 5 clusters? "
   ]
  },
  {
   "cell_type": "markdown",
   "id": "96bfda64-820a-41cc-bc61-8e3dc269d26a",
   "metadata": {},
   "source": [
    "We chose to find 5 clusters because we have 5 different labels we want to predict "
   ]
  },
  {
   "cell_type": "markdown",
   "id": "suffering-scheme",
   "metadata": {},
   "source": [
    "**Question 5:** How do the unsupervised k-means clusters compare to the ground truth labels? *(Visually compare against your plot from Part 2)*"
   ]
  },
  {
   "cell_type": "markdown",
   "id": "e162d4d1-9672-415f-86ac-8ca519fd751e",
   "metadata": {},
   "source": [
    "It looks like it does the same other than a few outliers. Furthermore, it predicts more grey's while the others predict more blue's."
   ]
  },
  {
   "cell_type": "markdown",
   "id": "cheap-dietary",
   "metadata": {},
   "source": [
    "**Question 6:** What are some **pros** and **cons** of clustering a dataset in its original high dimensionality versus clustering after dimensionality reduction?"
   ]
  },
  {
   "cell_type": "markdown",
   "id": "e042f698-121f-4bb0-a382-dc654778b5ee",
   "metadata": {},
   "source": [
    "The k-means algorithm is faster, but it does not always find the absolute minima. This means that clusters centers will not be the means of the actual cluster, and this would be a con to high dimensionality. On the other hand, higher dimensionality allows us to separate based on more factors than dimensionality reduction. "
   ]
  },
  {
   "cell_type": "markdown",
   "id": "subtle-brooks",
   "metadata": {},
   "source": [
    "In the following cell, compute and print the [completeness score](https://scikit-learn.org/stable/modules/generated/sklearn.metrics.completeness_score.html#sklearn.metrics.completeness_score) to quantitatively evaluate the effectiveness of k-means clustering on the cancer dataset given the known ground-truth labels"
   ]
  },
  {
   "cell_type": "code",
   "execution_count": 14,
   "id": "silent-postage",
   "metadata": {},
   "outputs": [
    {
     "name": "stdout",
     "output_type": "stream",
     "text": [
      "0.9763990539625917\n"
     ]
    }
   ],
   "source": [
    "print(completeness_score(y_cancer, k))"
   ]
  },
  {
   "cell_type": "markdown",
   "id": "different-cotton",
   "metadata": {},
   "source": [
    "**Question 7:** Explain this completeness score and what it means for the cancer dataset as you would to a **layperson** with no specific ML or CS knowledge.  "
   ]
  },
  {
   "cell_type": "markdown",
   "id": "bfa0be2d-67e4-458c-9d4d-e393a5f79787",
   "metadata": {},
   "source": [
    "The completeness score tells us how accurately or how close were were able to label the dataset to perfection. For example, if we labeled all data points in the set correctly, we would see a completeness score of 1.0. In this case we see a completeness score of 0.97, which shows that we are close to perfect. The 3 outliers might be hindering this score from being 1.0."
   ]
  },
  {
   "cell_type": "markdown",
   "id": "stylish-annotation",
   "metadata": {},
   "source": [
    "## Part 4. Final Questions"
   ]
  },
  {
   "cell_type": "markdown",
   "id": "elect-salem",
   "metadata": {},
   "source": [
    "**Question 8:** What does the data analysis in Part 2 suggest about **Research Question 1**? Support your argument by referring to your plots. What does this imply about why \"curing cancer\" is such a difficult medical problem?"
   ]
  },
  {
   "cell_type": "markdown",
   "id": "00ec4d3a-12da-4a80-9b7e-f5f8775dde03",
   "metadata": {},
   "source": [
    "Looking at the plots above, we see that each cluster is different and separated from another. This leads us to believe that they represent different diseases with unique changes in gene expression. This is why is it so difficult to cure cancer. Because each is unique, there is no one medicine that would cure all cancer. There would need to be unique cures for each case.  "
   ]
  },
  {
   "cell_type": "markdown",
   "id": "tropical-chair",
   "metadata": {},
   "source": [
    "**Question 9:** What does the data analysis in Part 3 suggest about **Research Question 2**? Support your argument by referring to your plots. "
   ]
  },
  {
   "cell_type": "markdown",
   "id": "ba48cb14-2154-4979-b6a9-a23d02e5520a",
   "metadata": {},
   "source": [
    "It would be possible. Looking at our plot, we see a great amount of separation between the clusters, except for a few outliers. Additionally, our completeness score of 0.97 shows that we are nearly perfect in predicting labels. "
   ]
  },
  {
   "cell_type": "markdown",
   "id": "serial-veteran",
   "metadata": {},
   "source": [
    "**Question 10:** We could have used a supervised ML approach to address **Research Question 2** given that we have ground truth labels for the cancer dataset. However, in what other real-world situations would effective clustering of unlabeled medical diagnostic results be useful for doctors?"
   ]
  },
  {
   "cell_type": "markdown",
   "id": "91fa2d5e-b8fd-41e9-a810-a0ac1870b199",
   "metadata": {},
   "source": [
    "It would be better in real-time diagonistics. For example, we can better predict grades of muscle tear based on similar plots and clusters that allow us to separate the severities. "
   ]
  }
 ],
 "metadata": {
  "kernelspec": {
   "display_name": "Python 3 (ipykernel)",
   "language": "python",
   "name": "python3"
  },
  "language_info": {
   "codemirror_mode": {
    "name": "ipython",
    "version": 3
   },
   "file_extension": ".py",
   "mimetype": "text/x-python",
   "name": "python",
   "nbconvert_exporter": "python",
   "pygments_lexer": "ipython3",
   "version": "3.10.2"
  }
 },
 "nbformat": 4,
 "nbformat_minor": 5
}
